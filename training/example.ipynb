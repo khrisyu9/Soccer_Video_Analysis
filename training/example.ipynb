{
 "cells": [
  {
   "cell_type": "code",
   "execution_count": 2,
   "metadata": {
    "collapsed": true
   },
   "outputs": [
    {
     "name": "stdout",
     "output_type": "stream",
     "text": [
      "Requirement already satisfied: roboflow in /home/yue/anaconda3/envs/FootballAnalysis/lib/python3.13/site-packages (1.1.60)\r\n",
      "Requirement already satisfied: certifi in /home/yue/anaconda3/envs/FootballAnalysis/lib/python3.13/site-packages (from roboflow) (2025.1.31)\r\n",
      "Requirement already satisfied: idna==3.7 in /home/yue/anaconda3/envs/FootballAnalysis/lib/python3.13/site-packages (from roboflow) (3.7)\r\n",
      "Requirement already satisfied: cycler in /home/yue/anaconda3/envs/FootballAnalysis/lib/python3.13/site-packages (from roboflow) (0.12.1)\r\n",
      "Requirement already satisfied: kiwisolver>=1.3.1 in /home/yue/anaconda3/envs/FootballAnalysis/lib/python3.13/site-packages (from roboflow) (1.4.8)\r\n",
      "Requirement already satisfied: matplotlib in /home/yue/anaconda3/envs/FootballAnalysis/lib/python3.13/site-packages (from roboflow) (3.10.1)\r\n",
      "Requirement already satisfied: numpy>=1.18.5 in /home/yue/anaconda3/envs/FootballAnalysis/lib/python3.13/site-packages (from roboflow) (2.1.1)\r\n",
      "Requirement already satisfied: opencv-python-headless==4.10.0.84 in /home/yue/anaconda3/envs/FootballAnalysis/lib/python3.13/site-packages (from roboflow) (4.10.0.84)\r\n",
      "Requirement already satisfied: Pillow>=7.1.2 in /home/yue/anaconda3/envs/FootballAnalysis/lib/python3.13/site-packages (from roboflow) (11.1.0)\r\n",
      "Requirement already satisfied: pillow-heif>=0.18.0 in /home/yue/anaconda3/envs/FootballAnalysis/lib/python3.13/site-packages (from roboflow) (0.22.0)\r\n",
      "Requirement already satisfied: python-dateutil in /home/yue/anaconda3/envs/FootballAnalysis/lib/python3.13/site-packages (from roboflow) (2.9.0.post0)\r\n",
      "Requirement already satisfied: python-dotenv in /home/yue/anaconda3/envs/FootballAnalysis/lib/python3.13/site-packages (from roboflow) (1.1.0)\r\n",
      "Requirement already satisfied: requests in /home/yue/anaconda3/envs/FootballAnalysis/lib/python3.13/site-packages (from roboflow) (2.32.3)\r\n",
      "Requirement already satisfied: six in /home/yue/anaconda3/envs/FootballAnalysis/lib/python3.13/site-packages (from roboflow) (1.16.0)\r\n",
      "Requirement already satisfied: urllib3>=1.26.6 in /home/yue/anaconda3/envs/FootballAnalysis/lib/python3.13/site-packages (from roboflow) (2.3.0)\r\n",
      "Requirement already satisfied: tqdm>=4.41.0 in /home/yue/anaconda3/envs/FootballAnalysis/lib/python3.13/site-packages (from roboflow) (4.67.1)\r\n",
      "Requirement already satisfied: PyYAML>=5.3.1 in /home/yue/anaconda3/envs/FootballAnalysis/lib/python3.13/site-packages (from roboflow) (6.0.2)\r\n",
      "Requirement already satisfied: requests-toolbelt in /home/yue/anaconda3/envs/FootballAnalysis/lib/python3.13/site-packages (from roboflow) (1.0.0)\r\n",
      "Requirement already satisfied: filetype in /home/yue/anaconda3/envs/FootballAnalysis/lib/python3.13/site-packages (from roboflow) (1.2.0)\r\n",
      "Requirement already satisfied: contourpy>=1.0.1 in /home/yue/anaconda3/envs/FootballAnalysis/lib/python3.13/site-packages (from matplotlib->roboflow) (1.3.1)\r\n",
      "Requirement already satisfied: fonttools>=4.22.0 in /home/yue/anaconda3/envs/FootballAnalysis/lib/python3.13/site-packages (from matplotlib->roboflow) (4.57.0)\r\n",
      "Requirement already satisfied: packaging>=20.0 in /home/yue/anaconda3/envs/FootballAnalysis/lib/python3.13/site-packages (from matplotlib->roboflow) (24.2)\r\n",
      "Requirement already satisfied: pyparsing>=2.3.1 in /home/yue/anaconda3/envs/FootballAnalysis/lib/python3.13/site-packages (from matplotlib->roboflow) (3.2.3)\r\n",
      "Requirement already satisfied: charset-normalizer<4,>=2 in /home/yue/anaconda3/envs/FootballAnalysis/lib/python3.13/site-packages (from requests->roboflow) (3.3.2)\r\n",
      "Requirement already satisfied: ultralytics in /home/yue/anaconda3/envs/FootballAnalysis/lib/python3.13/site-packages (8.3.101)\r\n",
      "Requirement already satisfied: numpy<=2.1.1,>=1.23.0 in /home/yue/anaconda3/envs/FootballAnalysis/lib/python3.13/site-packages (from ultralytics) (2.1.1)\r\n",
      "Requirement already satisfied: matplotlib>=3.3.0 in /home/yue/anaconda3/envs/FootballAnalysis/lib/python3.13/site-packages (from ultralytics) (3.10.1)\r\n",
      "Requirement already satisfied: opencv-python>=4.6.0 in /home/yue/anaconda3/envs/FootballAnalysis/lib/python3.13/site-packages (from ultralytics) (4.11.0.86)\r\n",
      "Requirement already satisfied: pillow>=7.1.2 in /home/yue/anaconda3/envs/FootballAnalysis/lib/python3.13/site-packages (from ultralytics) (11.1.0)\r\n",
      "Requirement already satisfied: pyyaml>=5.3.1 in /home/yue/anaconda3/envs/FootballAnalysis/lib/python3.13/site-packages (from ultralytics) (6.0.2)\r\n",
      "Requirement already satisfied: requests>=2.23.0 in /home/yue/anaconda3/envs/FootballAnalysis/lib/python3.13/site-packages (from ultralytics) (2.32.3)\r\n",
      "Requirement already satisfied: scipy>=1.4.1 in /home/yue/anaconda3/envs/FootballAnalysis/lib/python3.13/site-packages (from ultralytics) (1.15.2)\r\n",
      "Requirement already satisfied: torch>=1.8.0 in /home/yue/anaconda3/envs/FootballAnalysis/lib/python3.13/site-packages (from ultralytics) (2.6.0)\r\n",
      "Requirement already satisfied: torchvision>=0.9.0 in /home/yue/anaconda3/envs/FootballAnalysis/lib/python3.13/site-packages (from ultralytics) (0.21.0)\r\n",
      "Requirement already satisfied: tqdm>=4.64.0 in /home/yue/anaconda3/envs/FootballAnalysis/lib/python3.13/site-packages (from ultralytics) (4.67.1)\r\n",
      "Requirement already satisfied: psutil in /home/yue/anaconda3/envs/FootballAnalysis/lib/python3.13/site-packages (from ultralytics) (5.9.0)\r\n",
      "Requirement already satisfied: py-cpuinfo in /home/yue/anaconda3/envs/FootballAnalysis/lib/python3.13/site-packages (from ultralytics) (9.0.0)\r\n",
      "Requirement already satisfied: pandas>=1.1.4 in /home/yue/anaconda3/envs/FootballAnalysis/lib/python3.13/site-packages (from ultralytics) (2.2.3)\r\n",
      "Requirement already satisfied: seaborn>=0.11.0 in /home/yue/anaconda3/envs/FootballAnalysis/lib/python3.13/site-packages (from ultralytics) (0.13.2)\r\n",
      "Requirement already satisfied: ultralytics-thop>=2.0.0 in /home/yue/anaconda3/envs/FootballAnalysis/lib/python3.13/site-packages (from ultralytics) (2.0.14)\r\n",
      "Requirement already satisfied: contourpy>=1.0.1 in /home/yue/anaconda3/envs/FootballAnalysis/lib/python3.13/site-packages (from matplotlib>=3.3.0->ultralytics) (1.3.1)\r\n",
      "Requirement already satisfied: cycler>=0.10 in /home/yue/anaconda3/envs/FootballAnalysis/lib/python3.13/site-packages (from matplotlib>=3.3.0->ultralytics) (0.12.1)\r\n",
      "Requirement already satisfied: fonttools>=4.22.0 in /home/yue/anaconda3/envs/FootballAnalysis/lib/python3.13/site-packages (from matplotlib>=3.3.0->ultralytics) (4.57.0)\r\n",
      "Requirement already satisfied: kiwisolver>=1.3.1 in /home/yue/anaconda3/envs/FootballAnalysis/lib/python3.13/site-packages (from matplotlib>=3.3.0->ultralytics) (1.4.8)\r\n",
      "Requirement already satisfied: packaging>=20.0 in /home/yue/anaconda3/envs/FootballAnalysis/lib/python3.13/site-packages (from matplotlib>=3.3.0->ultralytics) (24.2)\r\n",
      "Requirement already satisfied: pyparsing>=2.3.1 in /home/yue/anaconda3/envs/FootballAnalysis/lib/python3.13/site-packages (from matplotlib>=3.3.0->ultralytics) (3.2.3)\r\n",
      "Requirement already satisfied: python-dateutil>=2.7 in /home/yue/anaconda3/envs/FootballAnalysis/lib/python3.13/site-packages (from matplotlib>=3.3.0->ultralytics) (2.9.0.post0)\r\n",
      "Requirement already satisfied: pytz>=2020.1 in /home/yue/anaconda3/envs/FootballAnalysis/lib/python3.13/site-packages (from pandas>=1.1.4->ultralytics) (2025.2)\r\n",
      "Requirement already satisfied: tzdata>=2022.7 in /home/yue/anaconda3/envs/FootballAnalysis/lib/python3.13/site-packages (from pandas>=1.1.4->ultralytics) (2025.2)\r\n",
      "Requirement already satisfied: charset-normalizer<4,>=2 in /home/yue/anaconda3/envs/FootballAnalysis/lib/python3.13/site-packages (from requests>=2.23.0->ultralytics) (3.3.2)\r\n",
      "Requirement already satisfied: idna<4,>=2.5 in /home/yue/anaconda3/envs/FootballAnalysis/lib/python3.13/site-packages (from requests>=2.23.0->ultralytics) (3.7)\r\n",
      "Requirement already satisfied: urllib3<3,>=1.21.1 in /home/yue/anaconda3/envs/FootballAnalysis/lib/python3.13/site-packages (from requests>=2.23.0->ultralytics) (2.3.0)\r\n",
      "Requirement already satisfied: certifi>=2017.4.17 in /home/yue/anaconda3/envs/FootballAnalysis/lib/python3.13/site-packages (from requests>=2.23.0->ultralytics) (2025.1.31)\r\n",
      "Requirement already satisfied: filelock in /home/yue/anaconda3/envs/FootballAnalysis/lib/python3.13/site-packages (from torch>=1.8.0->ultralytics) (3.18.0)\r\n",
      "Requirement already satisfied: typing-extensions>=4.10.0 in /home/yue/anaconda3/envs/FootballAnalysis/lib/python3.13/site-packages (from torch>=1.8.0->ultralytics) (4.12.2)\r\n",
      "Requirement already satisfied: networkx in /home/yue/anaconda3/envs/FootballAnalysis/lib/python3.13/site-packages (from torch>=1.8.0->ultralytics) (3.4.2)\r\n",
      "Requirement already satisfied: jinja2 in /home/yue/anaconda3/envs/FootballAnalysis/lib/python3.13/site-packages (from torch>=1.8.0->ultralytics) (3.1.6)\r\n",
      "Requirement already satisfied: fsspec in /home/yue/anaconda3/envs/FootballAnalysis/lib/python3.13/site-packages (from torch>=1.8.0->ultralytics) (2025.3.2)\r\n",
      "Requirement already satisfied: nvidia-cuda-nvrtc-cu12==12.4.127 in /home/yue/anaconda3/envs/FootballAnalysis/lib/python3.13/site-packages (from torch>=1.8.0->ultralytics) (12.4.127)\r\n",
      "Requirement already satisfied: nvidia-cuda-runtime-cu12==12.4.127 in /home/yue/anaconda3/envs/FootballAnalysis/lib/python3.13/site-packages (from torch>=1.8.0->ultralytics) (12.4.127)\r\n",
      "Requirement already satisfied: nvidia-cuda-cupti-cu12==12.4.127 in /home/yue/anaconda3/envs/FootballAnalysis/lib/python3.13/site-packages (from torch>=1.8.0->ultralytics) (12.4.127)\r\n",
      "Requirement already satisfied: nvidia-cudnn-cu12==9.1.0.70 in /home/yue/anaconda3/envs/FootballAnalysis/lib/python3.13/site-packages (from torch>=1.8.0->ultralytics) (9.1.0.70)\r\n",
      "Requirement already satisfied: nvidia-cublas-cu12==12.4.5.8 in /home/yue/anaconda3/envs/FootballAnalysis/lib/python3.13/site-packages (from torch>=1.8.0->ultralytics) (12.4.5.8)\r\n",
      "Requirement already satisfied: nvidia-cufft-cu12==11.2.1.3 in /home/yue/anaconda3/envs/FootballAnalysis/lib/python3.13/site-packages (from torch>=1.8.0->ultralytics) (11.2.1.3)\r\n",
      "Requirement already satisfied: nvidia-curand-cu12==10.3.5.147 in /home/yue/anaconda3/envs/FootballAnalysis/lib/python3.13/site-packages (from torch>=1.8.0->ultralytics) (10.3.5.147)\r\n",
      "Requirement already satisfied: nvidia-cusolver-cu12==11.6.1.9 in /home/yue/anaconda3/envs/FootballAnalysis/lib/python3.13/site-packages (from torch>=1.8.0->ultralytics) (11.6.1.9)\r\n",
      "Requirement already satisfied: nvidia-cusparse-cu12==12.3.1.170 in /home/yue/anaconda3/envs/FootballAnalysis/lib/python3.13/site-packages (from torch>=1.8.0->ultralytics) (12.3.1.170)\r\n",
      "Requirement already satisfied: nvidia-cusparselt-cu12==0.6.2 in /home/yue/anaconda3/envs/FootballAnalysis/lib/python3.13/site-packages (from torch>=1.8.0->ultralytics) (0.6.2)\r\n",
      "Requirement already satisfied: nvidia-nccl-cu12==2.21.5 in /home/yue/anaconda3/envs/FootballAnalysis/lib/python3.13/site-packages (from torch>=1.8.0->ultralytics) (2.21.5)\r\n",
      "Requirement already satisfied: nvidia-nvtx-cu12==12.4.127 in /home/yue/anaconda3/envs/FootballAnalysis/lib/python3.13/site-packages (from torch>=1.8.0->ultralytics) (12.4.127)\r\n",
      "Requirement already satisfied: nvidia-nvjitlink-cu12==12.4.127 in /home/yue/anaconda3/envs/FootballAnalysis/lib/python3.13/site-packages (from torch>=1.8.0->ultralytics) (12.4.127)\r\n",
      "Requirement already satisfied: triton==3.2.0 in /home/yue/anaconda3/envs/FootballAnalysis/lib/python3.13/site-packages (from torch>=1.8.0->ultralytics) (3.2.0)\r\n",
      "Requirement already satisfied: setuptools in /home/yue/anaconda3/envs/FootballAnalysis/lib/python3.13/site-packages (from torch>=1.8.0->ultralytics) (75.8.0)\r\n",
      "Requirement already satisfied: sympy==1.13.1 in /home/yue/anaconda3/envs/FootballAnalysis/lib/python3.13/site-packages (from torch>=1.8.0->ultralytics) (1.13.1)\r\n",
      "Requirement already satisfied: mpmath<1.4,>=1.1.0 in /home/yue/anaconda3/envs/FootballAnalysis/lib/python3.13/site-packages (from sympy==1.13.1->torch>=1.8.0->ultralytics) (1.3.0)\r\n",
      "Requirement already satisfied: six>=1.5 in /home/yue/anaconda3/envs/FootballAnalysis/lib/python3.13/site-packages (from python-dateutil>=2.7->matplotlib>=3.3.0->ultralytics) (1.16.0)\r\n",
      "Requirement already satisfied: MarkupSafe>=2.0 in /home/yue/anaconda3/envs/FootballAnalysis/lib/python3.13/site-packages (from jinja2->torch>=1.8.0->ultralytics) (3.0.2)\r\n",
      "loading Roboflow workspace...\n",
      "loading Roboflow project...\n"
     ]
    }
   ],
   "source": [
    "!pip install roboflow\n",
    "!pip install ultralytics\n",
    "\n",
    "from roboflow import Roboflow\n",
    "rf = Roboflow(api_key=\"5RCIDUQ8OWLrDZdMxLc7\")\n",
    "project = rf.workspace(\"roboflow-jvuqo\").project(\"football-players-detection-3zvbc\")\n",
    "version = project.version(1)\n",
    "dataset = version.download(\"yolov5\")"
   ]
  },
  {
   "cell_type": "code",
   "execution_count": 3,
   "outputs": [
    {
     "data": {
      "text/plain": "'/home/yue/PycharmProjects/FootballAnalysis/football-players-detection-1'"
     },
     "execution_count": 3,
     "metadata": {},
     "output_type": "execute_result"
    }
   ],
   "source": [
    "dataset.location"
   ],
   "metadata": {
    "collapsed": false
   }
  },
  {
   "cell_type": "markdown",
   "source": [
    "Training"
   ],
   "metadata": {
    "collapsed": false
   }
  },
  {
   "cell_type": "code",
   "execution_count": 4,
   "outputs": [
    {
     "name": "stdout",
     "output_type": "stream",
     "text": [
      "PRO TIP 💡 Replace 'model=yolov5x.pt' with new 'model=yolov5xu.pt'.\r\n",
      "YOLOv5 'u' models are trained with https://github.com/ultralytics/ultralytics and feature improved performance vs standard YOLOv5 models trained with https://github.com/ultralytics/yolov5.\r\n",
      "\r\n",
      "Ultralytics 8.3.101 🚀 Python-3.13.2 torch-2.6.0+cu124 CUDA:0 (NVIDIA GeForce RTX 3080 Ti, 12037MiB)\r\n",
      "\u001B[34m\u001B[1mengine/trainer: \u001B[0mtask=detect, mode=train, model=yolov5x.pt, data=/home/yue/PycharmProjects/FootballAnalysis/football-players-detection-1/data.yaml, epochs=100, time=None, patience=100, batch=16, imgsz=640, save=True, save_period=-1, cache=False, device=None, workers=8, project=None, name=train6, exist_ok=False, pretrained=True, optimizer=auto, verbose=True, seed=0, deterministic=True, single_cls=False, rect=False, cos_lr=False, close_mosaic=10, resume=False, amp=True, fraction=1.0, profile=False, freeze=None, multi_scale=False, overlap_mask=True, mask_ratio=4, dropout=0.0, val=True, split=val, save_json=False, save_hybrid=False, conf=None, iou=0.7, max_det=300, half=False, dnn=False, plots=True, source=None, vid_stride=1, stream_buffer=False, visualize=False, augment=False, agnostic_nms=False, classes=None, retina_masks=False, embed=None, show=False, save_frames=False, save_txt=False, save_conf=False, save_crop=False, show_labels=True, show_conf=True, show_boxes=True, line_width=None, format=torchscript, keras=False, optimize=False, int8=False, dynamic=False, simplify=True, opset=None, workspace=None, nms=False, lr0=0.01, lrf=0.01, momentum=0.937, weight_decay=0.0005, warmup_epochs=3.0, warmup_momentum=0.8, warmup_bias_lr=0.1, box=7.5, cls=0.5, dfl=1.5, pose=12.0, kobj=1.0, nbs=64, hsv_h=0.015, hsv_s=0.7, hsv_v=0.4, degrees=0.0, translate=0.1, scale=0.5, shear=0.0, perspective=0.0, flipud=0.0, fliplr=0.5, bgr=0.0, mosaic=1.0, mixup=0.0, copy_paste=0.0, copy_paste_mode=flip, auto_augment=randaugment, erasing=0.4, crop_fraction=1.0, cfg=None, tracker=botsort.yaml, save_dir=runs/detect/train6\r\n",
      "Overriding model.yaml nc=80 with nc=4\r\n",
      "\r\n",
      "                   from  n    params  module                                       arguments                     \r\n",
      "  0                  -1  1      8800  ultralytics.nn.modules.conv.Conv             [3, 80, 6, 2, 2]              \r\n",
      "  1                  -1  1    115520  ultralytics.nn.modules.conv.Conv             [80, 160, 3, 2]               \r\n",
      "  2                  -1  4    309120  ultralytics.nn.modules.block.C3              [160, 160, 4]                 \r\n",
      "  3                  -1  1    461440  ultralytics.nn.modules.conv.Conv             [160, 320, 3, 2]              \r\n",
      "  4                  -1  8   2259200  ultralytics.nn.modules.block.C3              [320, 320, 8]                 \r\n",
      "  5                  -1  1   1844480  ultralytics.nn.modules.conv.Conv             [320, 640, 3, 2]              \r\n",
      "  6                  -1 12  13125120  ultralytics.nn.modules.block.C3              [640, 640, 12]                \r\n",
      "  7                  -1  1   7375360  ultralytics.nn.modules.conv.Conv             [640, 1280, 3, 2]             \r\n",
      "  8                  -1  4  19676160  ultralytics.nn.modules.block.C3              [1280, 1280, 4]               \r\n",
      "  9                  -1  1   4099840  ultralytics.nn.modules.block.SPPF            [1280, 1280, 5]               \r\n",
      " 10                  -1  1    820480  ultralytics.nn.modules.conv.Conv             [1280, 640, 1, 1]             \r\n",
      " 11                  -1  1         0  torch.nn.modules.upsampling.Upsample         [None, 2, 'nearest']          \r\n",
      " 12             [-1, 6]  1         0  ultralytics.nn.modules.conv.Concat           [1]                           \r\n",
      " 13                  -1  4   5332480  ultralytics.nn.modules.block.C3              [1280, 640, 4, False]         \r\n",
      " 14                  -1  1    205440  ultralytics.nn.modules.conv.Conv             [640, 320, 1, 1]              \r\n",
      " 15                  -1  1         0  torch.nn.modules.upsampling.Upsample         [None, 2, 'nearest']          \r\n",
      " 16             [-1, 4]  1         0  ultralytics.nn.modules.conv.Concat           [1]                           \r\n",
      " 17                  -1  4   1335040  ultralytics.nn.modules.block.C3              [640, 320, 4, False]          \r\n",
      " 18                  -1  1    922240  ultralytics.nn.modules.conv.Conv             [320, 320, 3, 2]              \r\n",
      " 19            [-1, 14]  1         0  ultralytics.nn.modules.conv.Concat           [1]                           \r\n",
      " 20                  -1  4   4922880  ultralytics.nn.modules.block.C3              [640, 640, 4, False]          \r\n",
      " 21                  -1  1   3687680  ultralytics.nn.modules.conv.Conv             [640, 640, 3, 2]              \r\n",
      " 22            [-1, 10]  1         0  ultralytics.nn.modules.conv.Concat           [1]                           \r\n",
      " 23                  -1  4  19676160  ultralytics.nn.modules.block.C3              [1280, 1280, 4, False]        \r\n",
      " 24        [17, 20, 23]  1  11025820  ultralytics.nn.modules.head.Detect           [4, [320, 640, 1280]]         \r\n",
      "YOLOv5x summary: 285 layers, 97,203,260 parameters, 97,203,244 gradients, 246.9 GFLOPs\r\n",
      "\r\n",
      "Transferred 817/823 items from pretrained weights\r\n",
      "Freezing layer 'model.24.dfl.conv.weight'\r\n",
      "\u001B[34m\u001B[1mAMP: \u001B[0mrunning Automatic Mixed Precision (AMP) checks...\r\n",
      "\u001B[34m\u001B[1mAMP: \u001B[0mchecks passed ✅\r\n",
      "\u001B[34m\u001B[1mtrain: \u001B[0mScanning /home/yue/PycharmProjects/FootballAnalysis/football-players-dete\u001B[0m\r\n",
      "\u001B[34m\u001B[1mval: \u001B[0mScanning /home/yue/PycharmProjects/FootballAnalysis/football-players-detect\u001B[0m\r\n",
      "Plotting labels to runs/detect/train6/labels.jpg... \r\n",
      "\u001B[34m\u001B[1moptimizer:\u001B[0m 'optimizer=auto' found, ignoring 'lr0=0.01' and 'momentum=0.937' and determining best 'optimizer', 'lr0' and 'momentum' automatically... \r\n",
      "\u001B[34m\u001B[1moptimizer:\u001B[0m AdamW(lr=0.00125, momentum=0.9) with parameter groups 135 weight(decay=0.0), 142 weight(decay=0.0005), 141 bias(decay=0.0)\r\n",
      "Image sizes 640 train, 640 val\r\n",
      "Using 8 dataloader workers\r\n",
      "Logging results to \u001B[1mruns/detect/train6\u001B[0m\r\n",
      "Starting training for 100 epochs...\r\n",
      "\r\n",
      "      Epoch    GPU_mem   box_loss   cls_loss   dfl_loss  Instances       Size\r\n",
      "  0%|          | 0/39 [00:00<?, ?it/s]\r\n",
      "Traceback (most recent call last):\r\n",
      "  File \u001B[35m\"/home/yue/anaconda3/envs/FootballAnalysis/bin/yolo\"\u001B[0m, line \u001B[35m8\u001B[0m, in \u001B[35m<module>\u001B[0m\r\n",
      "    sys.exit(\u001B[31mentrypoint\u001B[0m\u001B[1;31m()\u001B[0m)\r\n",
      "             \u001B[31m~~~~~~~~~~\u001B[0m\u001B[1;31m^^\u001B[0m\r\n",
      "  File \u001B[35m\"/home/yue/anaconda3/envs/FootballAnalysis/lib/python3.13/site-packages/ultralytics/cfg/__init__.py\"\u001B[0m, line \u001B[35m987\u001B[0m, in \u001B[35mentrypoint\u001B[0m\r\n",
      "    \u001B[31mgetattr(model, mode)\u001B[0m\u001B[1;31m(**overrides)\u001B[0m  # default args from model\r\n",
      "    \u001B[31m~~~~~~~~~~~~~~~~~~~~\u001B[0m\u001B[1;31m^^^^^^^^^^^^^\u001B[0m\r\n",
      "  File \u001B[35m\"/home/yue/anaconda3/envs/FootballAnalysis/lib/python3.13/site-packages/ultralytics/engine/model.py\"\u001B[0m, line \u001B[35m791\u001B[0m, in \u001B[35mtrain\u001B[0m\r\n",
      "    \u001B[31mself.trainer.train\u001B[0m\u001B[1;31m()\u001B[0m\r\n",
      "    \u001B[31m~~~~~~~~~~~~~~~~~~\u001B[0m\u001B[1;31m^^\u001B[0m\r\n",
      "  File \u001B[35m\"/home/yue/anaconda3/envs/FootballAnalysis/lib/python3.13/site-packages/ultralytics/engine/trainer.py\"\u001B[0m, line \u001B[35m211\u001B[0m, in \u001B[35mtrain\u001B[0m\r\n",
      "    \u001B[31mself._do_train\u001B[0m\u001B[1;31m(world_size)\u001B[0m\r\n",
      "    \u001B[31m~~~~~~~~~~~~~~\u001B[0m\u001B[1;31m^^^^^^^^^^^^\u001B[0m\r\n",
      "  File \u001B[35m\"/home/yue/anaconda3/envs/FootballAnalysis/lib/python3.13/site-packages/ultralytics/engine/trainer.py\"\u001B[0m, line \u001B[35m385\u001B[0m, in \u001B[35m_do_train\u001B[0m\r\n",
      "    loss, self.loss_items = \u001B[31mself.model\u001B[0m\u001B[1;31m(batch)\u001B[0m\r\n",
      "                            \u001B[31m~~~~~~~~~~\u001B[0m\u001B[1;31m^^^^^^^\u001B[0m\r\n",
      "  File \u001B[35m\"/home/yue/anaconda3/envs/FootballAnalysis/lib/python3.13/site-packages/torch/nn/modules/module.py\"\u001B[0m, line \u001B[35m1739\u001B[0m, in \u001B[35m_wrapped_call_impl\u001B[0m\r\n",
      "    return \u001B[31mself._call_impl\u001B[0m\u001B[1;31m(*args, **kwargs)\u001B[0m\r\n",
      "           \u001B[31m~~~~~~~~~~~~~~~\u001B[0m\u001B[1;31m^^^^^^^^^^^^^^^^^\u001B[0m\r\n",
      "  File \u001B[35m\"/home/yue/anaconda3/envs/FootballAnalysis/lib/python3.13/site-packages/torch/nn/modules/module.py\"\u001B[0m, line \u001B[35m1750\u001B[0m, in \u001B[35m_call_impl\u001B[0m\r\n",
      "    return forward_call(*args, **kwargs)\r\n",
      "  File \u001B[35m\"/home/yue/anaconda3/envs/FootballAnalysis/lib/python3.13/site-packages/ultralytics/nn/tasks.py\"\u001B[0m, line \u001B[35m119\u001B[0m, in \u001B[35mforward\u001B[0m\r\n",
      "    return \u001B[31mself.loss\u001B[0m\u001B[1;31m(x, *args, **kwargs)\u001B[0m\r\n",
      "           \u001B[31m~~~~~~~~~\u001B[0m\u001B[1;31m^^^^^^^^^^^^^^^^^^^^\u001B[0m\r\n",
      "  File \u001B[35m\"/home/yue/anaconda3/envs/FootballAnalysis/lib/python3.13/site-packages/ultralytics/nn/tasks.py\"\u001B[0m, line \u001B[35m298\u001B[0m, in \u001B[35mloss\u001B[0m\r\n",
      "    preds = \u001B[31mself.forward\u001B[0m\u001B[1;31m(batch[\"img\"])\u001B[0m if preds is None else preds\r\n",
      "            \u001B[31m~~~~~~~~~~~~\u001B[0m\u001B[1;31m^^^^^^^^^^^^^^\u001B[0m\r\n",
      "  File \u001B[35m\"/home/yue/anaconda3/envs/FootballAnalysis/lib/python3.13/site-packages/ultralytics/nn/tasks.py\"\u001B[0m, line \u001B[35m120\u001B[0m, in \u001B[35mforward\u001B[0m\r\n",
      "    return \u001B[31mself.predict\u001B[0m\u001B[1;31m(x, *args, **kwargs)\u001B[0m\r\n",
      "           \u001B[31m~~~~~~~~~~~~\u001B[0m\u001B[1;31m^^^^^^^^^^^^^^^^^^^^\u001B[0m\r\n",
      "  File \u001B[35m\"/home/yue/anaconda3/envs/FootballAnalysis/lib/python3.13/site-packages/ultralytics/nn/tasks.py\"\u001B[0m, line \u001B[35m138\u001B[0m, in \u001B[35mpredict\u001B[0m\r\n",
      "    return \u001B[31mself._predict_once\u001B[0m\u001B[1;31m(x, profile, visualize, embed)\u001B[0m\r\n",
      "           \u001B[31m~~~~~~~~~~~~~~~~~~\u001B[0m\u001B[1;31m^^^^^^^^^^^^^^^^^^^^^^^^^^^^^^\u001B[0m\r\n",
      "  File \u001B[35m\"/home/yue/anaconda3/envs/FootballAnalysis/lib/python3.13/site-packages/ultralytics/nn/tasks.py\"\u001B[0m, line \u001B[35m159\u001B[0m, in \u001B[35m_predict_once\u001B[0m\r\n",
      "    x = m(x)  # run\r\n",
      "  File \u001B[35m\"/home/yue/anaconda3/envs/FootballAnalysis/lib/python3.13/site-packages/torch/nn/modules/module.py\"\u001B[0m, line \u001B[35m1739\u001B[0m, in \u001B[35m_wrapped_call_impl\u001B[0m\r\n",
      "    return \u001B[31mself._call_impl\u001B[0m\u001B[1;31m(*args, **kwargs)\u001B[0m\r\n",
      "           \u001B[31m~~~~~~~~~~~~~~~\u001B[0m\u001B[1;31m^^^^^^^^^^^^^^^^^\u001B[0m\r\n",
      "  File \u001B[35m\"/home/yue/anaconda3/envs/FootballAnalysis/lib/python3.13/site-packages/torch/nn/modules/module.py\"\u001B[0m, line \u001B[35m1750\u001B[0m, in \u001B[35m_call_impl\u001B[0m\r\n",
      "    return forward_call(*args, **kwargs)\r\n",
      "  File \u001B[35m\"/home/yue/anaconda3/envs/FootballAnalysis/lib/python3.13/site-packages/ultralytics/nn/modules/block.py\"\u001B[0m, line \u001B[35m336\u001B[0m, in \u001B[35mforward\u001B[0m\r\n",
      "    return self.cv3(\u001B[31mtorch.cat\u001B[0m\u001B[1;31m((self.m(self.cv1(x)), self.cv2(x)), 1)\u001B[0m)\r\n",
      "                    \u001B[31m~~~~~~~~~\u001B[0m\u001B[1;31m^^^^^^^^^^^^^^^^^^^^^^^^^^^^^^^^^^^^^^^\u001B[0m\r\n",
      "\u001B[1;35mtorch.OutOfMemoryError\u001B[0m: \u001B[35mCUDA out of memory. Tried to allocate 64.00 MiB. GPU 0 has a total capacity of 11.75 GiB of which 60.62 MiB is free. Including non-PyTorch memory, this process has 10.93 GiB memory in use. Of the allocated memory 10.44 GiB is allocated by PyTorch, and 166.33 MiB is reserved by PyTorch but unallocated. If reserved but unallocated memory is large try setting PYTORCH_CUDA_ALLOC_CONF=expandable_segments:True to avoid fragmentation.  See documentation for Memory Management  (https://pytorch.org/docs/stable/notes/cuda.html#environment-variables)\u001B[0m\r\n"
     ]
    }
   ],
   "source": [
    "!yolo task=detect mode=train model=yolov5x.pt data={dataset.location}/data.yaml epochs=100 imgsz=640"
   ],
   "metadata": {
    "collapsed": false
   }
  },
  {
   "cell_type": "code",
   "execution_count": null,
   "outputs": [],
   "source": [],
   "metadata": {
    "collapsed": false
   }
  }
 ],
 "metadata": {
  "kernelspec": {
   "display_name": "Python 3",
   "language": "python",
   "name": "python3"
  },
  "language_info": {
   "codemirror_mode": {
    "name": "ipython",
    "version": 2
   },
   "file_extension": ".py",
   "mimetype": "text/x-python",
   "name": "python",
   "nbconvert_exporter": "python",
   "pygments_lexer": "ipython2",
   "version": "2.7.6"
  }
 },
 "nbformat": 4,
 "nbformat_minor": 0
}
